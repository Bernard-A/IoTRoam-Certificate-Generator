{
 "cells": [
  {
   "cell_type": "markdown",
   "metadata": {},
   "source": [
    "# Makefile generator for chirpstack platform "
   ]
  },
  {
   "cell_type": "code",
   "execution_count": 95,
   "metadata": {},
   "outputs": [
    {
     "data": {
      "text/plain": [
       "'2022-01-05'"
      ]
     },
     "execution_count": 95,
     "metadata": {},
     "output_type": "execute_result"
    }
   ],
   "source": [
    "from pathlib import Path\n",
    "import os\n",
    "import datetime\n",
    "\n"
   ]
  },
  {
   "cell_type": "code",
   "execution_count": 109,
   "metadata": {},
   "outputs": [],
   "source": [
    "# Variables\n",
    "\n",
    "destination = \"Afnic\"\n",
    "root = destination + \"-\" + str(datetime.datetime.now()).split(\" \")[0] + \"-certificates/\"\n",
    "\n",
    "net_id = \"000000\"\n",
    "\n",
    "app_server_ip = \"51.91.79.176\"\n",
    "join_server_ip = app_server_ip\n",
    "net_server_ip = \"51.178.80.199\"\n",
    "\n",
    "app_server_hosts = [\"127.0.0.1\",\"localhost\", app_server_ip]\n",
    "join_server_hosts = app_server_hosts.copy()\n",
    "net_server_hosts = [\"127.0.0.1\",\"localhost\", net_server_ip]\n",
    "roaming_server_hosts = net_server_hosts.copy()\n",
    "# Appending join server domains\n",
    "\n",
    "join_server_domains = []\n",
    "\n",
    "for i in join_server_domains:\n",
    "    join_server_hosts.append(i)\n",
    "    \n",
    "roaming_server_domain = net_id+\".netid.iotreg.net\"\n",
    "roaming_server_hosts.append(roaming_server_domain)\n"
   ]
  },
  {
   "cell_type": "code",
   "execution_count": 110,
   "metadata": {},
   "outputs": [],
   "source": [
    "def list_to_string(list):\n",
    "    return_string = \"[\"\n",
    "    for i in list:\n",
    "        return_string += \"\\\"\"\n",
    "        return_string += i\n",
    "        return_string += \"\\\"\"\n",
    "        return_string += \",\"\n",
    "    return return_string[:-1]+\"]\""
   ]
  },
  {
   "cell_type": "code",
   "execution_count": 111,
   "metadata": {},
   "outputs": [],
   "source": [
    "# Creating system folders\n",
    "\n",
    "Path(\"certificates/config\").mkdir(parents=True, exist_ok=True) \n",
    "Path(\"certificates/certs\").mkdir(parents=True, exist_ok=True) "
   ]
  },
  {
   "cell_type": "code",
   "execution_count": 112,
   "metadata": {},
   "outputs": [
    {
     "name": "stdout",
     "output_type": "stream",
     "text": [
      "Written : \n",
      "{\n",
      "\t\"CN\" : \"TSP-Application-Server\",\n",
      "\t\"host\": [\"127.0.0.1\",\"localhost\",\"51.91.79.176\"],\n",
      "\t\"key\": {\n",
      "\t\t\"algo\": \"rsa\",\n",
      "\t\t\"size\": 2048\n",
      "\t}\n",
      "}\n",
      " to \n",
      "Afnic-2022-01-05-certificates/config/application-server/api/server/certificate.json\n"
     ]
    }
   ],
   "source": [
    "# Generating Application Server - Server Certificate\n",
    "Path(root+\"config/application-server/api/server\").mkdir(parents=True, exist_ok=True) \n",
    "\n",
    "filename = root+\"config/application-server/api/server/certificate.json\"\n",
    "file_content ='{\\n\\t\"CN\" : \"TSP-Application-Server\",\\n\\t\"host\": '+ list_to_string(app_server_hosts) + ',\\n\\t\"key\": {\\n\\t\\t\"algo\": \"rsa\",\\n\\t\\t\"size\": 2048\\n\\t}\\n}'\n",
    "\n",
    "app_server_file = open(filename, 'w')\n",
    "app_server_file.write(file_content)\n",
    "app_server_file.close()\n",
    "\n",
    "print(\"Written : \\n\" + file_content + \"\\n to \\n\" + filename)\n"
   ]
  },
  {
   "cell_type": "code",
   "execution_count": 113,
   "metadata": {},
   "outputs": [
    {
     "name": "stdout",
     "output_type": "stream",
     "text": [
      "Written : \n",
      "{\n",
      "\t\"CN\" : \"000000\",\n",
      "\t\"host\": [\"127.0.0.1\",\"localhost\",\"51.178.80.199\"],\n",
      "\t\"key\": {\n",
      "\t\t\"algo\": \"rsa\",\n",
      "\t\t\"size\": 2048\n",
      "\t}\n",
      "}\n",
      " to \n",
      "Afnic-2022-01-05-certificates/config/application-server/api/client/certificate.json\n"
     ]
    }
   ],
   "source": [
    "# Generating Application Server - Client Certificate\n",
    "\n",
    "Path(root+\"config/application-server/api/client\").mkdir(parents=True, exist_ok=True) \n",
    "\n",
    "filename = root+\"config/application-server/api/client/certificate.json\"\n",
    "file_content ='{\\n\\t\"CN\" : \"'+ net_id+'\",\\n\\t\"host\": '+ list_to_string(net_server_hosts) + ',\\n\\t\"key\": {\\n\\t\\t\"algo\": \"rsa\",\\n\\t\\t\"size\": 2048\\n\\t}\\n}'\n",
    "\n",
    "app_server_file = open(filename, 'w')\n",
    "app_server_file.write(file_content)\n",
    "app_server_file.close()\n",
    "\n",
    "print(\"Written : \\n\" + file_content + \"\\n to \\n\" + filename)\n"
   ]
  },
  {
   "cell_type": "code",
   "execution_count": 114,
   "metadata": {},
   "outputs": [
    {
     "name": "stdout",
     "output_type": "stream",
     "text": [
      "Written : \n",
      "{\n",
      "\t\"CN\" : \"Afnic-AS-Join-API\",\n",
      "\t\"host\": [\"127.0.0.1\",\"localhost\",\"51.91.79.176\"],\n",
      "\t\"key\": {\n",
      "\t\t\"algo\": \"rsa\",\n",
      "\t\t\"size\": 2048\n",
      "\t}\n",
      "}\n",
      " to \n",
      "Afnic-2022-01-05-certificates/config/application-server/join-api/server/certificate.json\n"
     ]
    }
   ],
   "source": [
    "# Generating Join Server - Server Certificate\n",
    "\n",
    "Path(root+\"config/application-server/join-api/server\").mkdir(parents=True, exist_ok=True) \n",
    "\n",
    "filename = root+\"config/application-server/join-api/server/certificate.json\"\n",
    "file_content ='{\\n\\t\"CN\" : \"'+ \"Afnic-AS-Join-API\" +'\",\\n\\t\"host\": '+ list_to_string(join_server_hosts) + ',\\n\\t\"key\": {\\n\\t\\t\"algo\": \"rsa\",\\n\\t\\t\"size\": 2048\\n\\t}\\n}'\n",
    "\n",
    "join_server_file = open(filename, 'w')\n",
    "join_server_file.write(file_content)\n",
    "join_server_file.close()\n",
    "\n",
    "print(\"Written : \\n\" + file_content + \"\\n to \\n\" + filename)\n"
   ]
  },
  {
   "cell_type": "code",
   "execution_count": 115,
   "metadata": {},
   "outputs": [
    {
     "name": "stdout",
     "output_type": "stream",
     "text": [
      "Written : \n",
      "{\n",
      "\t\"CN\" : \"000000\",\n",
      "\t\"host\": [\"127.0.0.1\",\"localhost\",\"51.178.80.199\"],\n",
      "\t\"key\": {\n",
      "\t\t\"algo\": \"rsa\",\n",
      "\t\t\"size\": 2048\n",
      "\t}\n",
      "}\n",
      " to \n",
      "Afnic-2022-01-05-certificates/config/application-server/join-api/client/certificate.json\n"
     ]
    }
   ],
   "source": [
    "# Generating Join Server - Client Certificate\n",
    "\n",
    "Path(root+\"config/application-server/join-api/client\").mkdir(parents=True, exist_ok=True) \n",
    "\n",
    "filename = root+\"config/application-server/join-api/client/certificate.json\"\n",
    "file_content ='{\\n\\t\"CN\" : \"'+ net_id +'\",\\n\\t\"host\": '+ list_to_string(net_server_hosts) + ',\\n\\t\"key\": {\\n\\t\\t\"algo\": \"rsa\",\\n\\t\\t\"size\": 2048\\n\\t}\\n}'\n",
    "\n",
    "join_server_file = open(filename, 'w')\n",
    "join_server_file.write(file_content)\n",
    "join_server_file.close()\n",
    "\n",
    "print(\"Written : \\n\" + file_content + \"\\n to \\n\" + filename)"
   ]
  },
  {
   "cell_type": "code",
   "execution_count": 116,
   "metadata": {},
   "outputs": [
    {
     "name": "stdout",
     "output_type": "stream",
     "text": [
      "Written : \n",
      "{\n",
      "\t\"CN\" : \"Afnic-Network-Server\",\n",
      "\t\"host\": [\"127.0.0.1\",\"localhost\",\"51.178.80.199\"],\n",
      "\t\"key\": {\n",
      "\t\t\"algo\": \"rsa\",\n",
      "\t\t\"size\": 2048\n",
      "\t}\n",
      "}\n",
      " to \n",
      "Afnic-2022-01-05-certificates/config/network-server/api/server/certificate.json\n"
     ]
    }
   ],
   "source": [
    "# Generating Network Server - Server Certificate\n",
    "\n",
    "Path(root+\"config/network-server/api/server\").mkdir(parents=True, exist_ok=True) \n",
    "\n",
    "filename = root+\"config/network-server/api/server/certificate.json\"\n",
    "file_content ='{\\n\\t\"CN\" : \"'+ \"Afnic-Network-Server\" +'\",\\n\\t\"host\": '+ list_to_string(net_server_hosts) + ',\\n\\t\"key\": {\\n\\t\\t\"algo\": \"rsa\",\\n\\t\\t\"size\": 2048\\n\\t}\\n}'\n",
    "\n",
    "net_server_file = open(filename, 'w')\n",
    "net_server_file.write(file_content)\n",
    "net_server_file.close()\n",
    "\n",
    "print(\"Written : \\n\" + file_content + \"\\n to \\n\" + filename)"
   ]
  },
  {
   "cell_type": "code",
   "execution_count": 117,
   "metadata": {},
   "outputs": [
    {
     "name": "stdout",
     "output_type": "stream",
     "text": [
      "Written : \n",
      "{\n",
      "\t\"CN\" : \"00000000-0000-0000-0000-000000000000\",\n",
      "\t\"host\": [\"127.0.0.1\",\"localhost\",\"51.91.79.176\"],\n",
      "\t\"key\": {\n",
      "\t\t\"algo\": \"rsa\",\n",
      "\t\t\"size\": 2048\n",
      "\t}\n",
      "}\n",
      " to \n",
      "Afnic-2022-01-05-certificates/config/network-server/api/client/certificate.json\n"
     ]
    }
   ],
   "source": [
    "# Generating Network Server - Client Certificate\n",
    "\n",
    "Path(root+\"config/network-server/api/client\").mkdir(parents=True, exist_ok=True) \n",
    "\n",
    "filename = root+\"config/network-server/api/client/certificate.json\"\n",
    "file_content ='{\\n\\t\"CN\" : \"'+ \"00000000-0000-0000-0000-000000000000\" +'\",\\n\\t\"host\": '+ list_to_string(app_server_hosts) + ',\\n\\t\"key\": {\\n\\t\\t\"algo\": \"rsa\",\\n\\t\\t\"size\": 2048\\n\\t}\\n}'\n",
    "\n",
    "net_server_file = open(filename, 'w')\n",
    "net_server_file.write(file_content)\n",
    "net_server_file.close()\n",
    "\n",
    "print(\"Written : \\n\" + file_content + \"\\n to \\n\" + filename)"
   ]
  },
  {
   "cell_type": "code",
   "execution_count": 118,
   "metadata": {},
   "outputs": [
    {
     "name": "stdout",
     "output_type": "stream",
     "text": [
      "Written : \n",
      "{\n",
      "\t\"CN\" : \"000000\",\n",
      "\t\"host\": [\"127.0.0.1\",\"localhost\",\"51.178.80.199\",\"000000.netid.iotreg.net\"],\n",
      "\t\"key\": {\n",
      "\t\t\"algo\": \"rsa\",\n",
      "\t\t\"size\": 2048\n",
      "\t}\n",
      "}\n",
      " to \n",
      "Afnic-2022-01-05-certificates/config/network-server/roaming/000000/server/certificate.json\n"
     ]
    }
   ],
   "source": [
    "# Generating Roaming Server - Server Certificate\n",
    "roaming_path = root+\"config/network-server/roaming/\" + net_id\n",
    "\n",
    "Path(roaming_path + \"/server\").mkdir(parents=True, exist_ok=True) \n",
    "\n",
    "filename = roaming_path + \"/server/certificate.json\"\n",
    "file_content ='{\\n\\t\"CN\" : \"'+ net_id +'\",\\n\\t\"host\": '+ list_to_string(roaming_server_hosts) + ',\\n\\t\"key\": {\\n\\t\\t\"algo\": \"rsa\",\\n\\t\\t\"size\": 2048\\n\\t}\\n}'\n",
    "\n",
    "net_server_file = open(filename, 'w')\n",
    "net_server_file.write(file_content)\n",
    "net_server_file.close()\n",
    "\n",
    "print(\"Written : \\n\" + file_content + \"\\n to \\n\" + filename)"
   ]
  },
  {
   "cell_type": "code",
   "execution_count": 119,
   "metadata": {},
   "outputs": [
    {
     "name": "stdout",
     "output_type": "stream",
     "text": [
      "Written : \n",
      "{\n",
      "\t\"CN\" : \"000000\",\n",
      "\t\"host\": [\"\"],\n",
      "\t\"key\": {\n",
      "\t\t\"algo\": \"rsa\",\n",
      "\t\t\"size\": 2048\n",
      "\t}\n",
      "}\n",
      " to \n",
      "Afnic-2022-01-05-certificates/config/network-server/roaming/000000/client/certificate.json\n"
     ]
    }
   ],
   "source": [
    "# Generating Roaming Server - Server Certificate\n",
    "\n",
    "Path(roaming_path + \"/client\").mkdir(parents=True, exist_ok=True)\n",
    "\n",
    "filename = roaming_path + \"/client/certificate.json\"\n",
    "file_content ='{\\n\\t\"CN\" : \"'+ net_id +'\",\\n\\t\"host\": '+ '[\\\"\\\"]' + ',\\n\\t\"key\": {\\n\\t\\t\"algo\": \"rsa\",\\n\\t\\t\"size\": 2048\\n\\t}\\n}'\n",
    "\n",
    "net_server_file = open(filename, 'w')\n",
    "net_server_file.write(file_content)\n",
    "net_server_file.close()\n",
    "\n",
    "print(\"Written : \\n\" + file_content + \"\\n to \\n\" + filename)"
   ]
  },
  {
   "cell_type": "code",
   "execution_count": null,
   "metadata": {},
   "outputs": [],
   "source": []
  },
  {
   "cell_type": "code",
   "execution_count": null,
   "metadata": {},
   "outputs": [],
   "source": []
  },
  {
   "cell_type": "code",
   "execution_count": null,
   "metadata": {},
   "outputs": [],
   "source": []
  },
  {
   "cell_type": "code",
   "execution_count": null,
   "metadata": {},
   "outputs": [],
   "source": []
  },
  {
   "cell_type": "code",
   "execution_count": null,
   "metadata": {},
   "outputs": [],
   "source": []
  },
  {
   "cell_type": "code",
   "execution_count": null,
   "metadata": {},
   "outputs": [],
   "source": []
  },
  {
   "cell_type": "code",
   "execution_count": null,
   "metadata": {},
   "outputs": [],
   "source": []
  },
  {
   "cell_type": "code",
   "execution_count": null,
   "metadata": {},
   "outputs": [],
   "source": []
  },
  {
   "cell_type": "code",
   "execution_count": null,
   "metadata": {},
   "outputs": [],
   "source": []
  }
 ],
 "metadata": {
  "kernelspec": {
   "display_name": "Python 3",
   "language": "python",
   "name": "python3"
  },
  "language_info": {
   "codemirror_mode": {
    "name": "ipython",
    "version": 3
   },
   "file_extension": ".py",
   "mimetype": "text/x-python",
   "name": "python",
   "nbconvert_exporter": "python",
   "pygments_lexer": "ipython3",
   "version": "3.7.3"
  }
 },
 "nbformat": 4,
 "nbformat_minor": 4
}
