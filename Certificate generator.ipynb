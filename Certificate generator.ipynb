{
 "cells": [
  {
   "cell_type": "markdown",
   "metadata": {},
   "source": [
    "# Makefile generator for chirpstack platform "
   ]
  },
  {
   "cell_type": "code",
   "execution_count": null,
   "metadata": {},
   "outputs": [],
   "source": [
    "from pathlib import Path\n",
    "import os\n",
    "import datetime"
   ]
  },
  {
   "cell_type": "code",
   "execution_count": null,
   "metadata": {},
   "outputs": [],
   "source": [
    "# Archiving old certificates\n",
    "if os.path.isfile(\"certificates\"):\n",
    "    os.rename(\"certificates\", \"old-\"+str(datetime.datetime.now()).split(\" \")[0]+\"-certificates\")"
   ]
  },
  {
   "cell_type": "code",
   "execution_count": null,
   "metadata": {},
   "outputs": [],
   "source": [
    "# Variables\n",
    "\n",
    "folder_destination = \"Afnic\"\n",
    "entity = \"Afnic\"\n",
    "\n",
    "# File Names\n",
    "## Application Server Generic Name\n",
    "app_server_generic_name = \"Application Server \" + entity\n",
    "## Network Server Generic Name - Not Used - NetID used instead\n",
    "net_server_generic_name = \"Network Server \" + entity\n",
    "## Join Server Generic Name\n",
    "join_server_generic_name = \"Join Server \" + entity\n",
    "## Roaming Server Generic Name\n",
    "roaming_server_generic_name = \"Join Server \" + entity\n",
    "\n",
    "# Identifier\n",
    "## Application Server Generic Identifier - Used in Chirpstack AS config\n",
    "app_server_identifier = \"00000000-0000-0000-0000-000000000000\"\n",
    "## NetID as provided by LoRa Alliance\n",
    "net_id = \"000000\"\n",
    "\n",
    "# Addresses\n",
    "## Application Server IP Address\n",
    "app_server_ip = \"51.91.79.176\"\n",
    "## Network Server IP Address\n",
    "net_server_ip = \"51.178.80.199\"\n",
    "## Join Server IP Address\n",
    "join_server_ip = app_server_ip\n",
    "\n",
    "# Hostnames - Associated with certificates\n",
    "## Application Server Hosts\n",
    "app_server_hosts = [\"127.0.0.1\",\"localhost\", app_server_ip]\n",
    "## Join Server Hosts - default is Application Server Hosts + Additional JoinEUI names\n",
    "join_server_hosts = app_server_hosts.copy()\n",
    "## Network Server Hosts\n",
    "net_server_hosts = [\"127.0.0.1\",\"localhost\", net_server_ip]\n",
    "## Roaming Server Hosts - default is Network Server Hosts + Additional NetID name\n",
    "roaming_server_hosts = net_server_hosts.copy()\n",
    "\n",
    "## Setting additional names for roaming interfaces\n",
    "\n",
    "join_server_domains = []\n",
    "for i in join_server_domains:\n",
    "    join_server_hosts.append(i)\n",
    "    \n",
    "roaming_server_domain = net_id+\".netid.iotreg.net\"\n",
    "roaming_server_hosts.append(roaming_server_domain)"
   ]
  },
  {
   "cell_type": "code",
   "execution_count": null,
   "metadata": {},
   "outputs": [],
   "source": [
    "def list_to_string(list):\n",
    "    return_string = \"[\"\n",
    "    for i in list:\n",
    "        return_string += \"\\\"\"\n",
    "        return_string += i\n",
    "        return_string += \"\\\"\"\n",
    "        return_string += \",\"\n",
    "    return return_string[:-1]+\"]\""
   ]
  },
  {
   "cell_type": "code",
   "execution_count": null,
   "metadata": {},
   "outputs": [],
   "source": [
    "def configuration_string(CN, hosts, key_algo=\"rsa\", key_size=2048):\n",
    "    config = '{\\n\\t\"CN\" : \"'+ CN + '\",\\n\\t\"hosts\": '+ list_to_string(hosts) + ',\\n\\t\"key\": {\\n\\t\\t\"algo\":\" '+ key_algo +'\",\\n\\t\\t\"size\": ' +str(key_size)+'\\n\\t}\\n}'\n",
    "    return config"
   ]
  },
  {
   "cell_type": "code",
   "execution_count": null,
   "metadata": {},
   "outputs": [],
   "source": [
    "# Creating system folders\n",
    "\n",
    "Path(\"certificates/config\").mkdir(parents=True, exist_ok=True) \n",
    "Path(\"certificates/config\").mkdir(parents=True, exist_ok=True) "
   ]
  },
  {
   "cell_type": "code",
   "execution_count": null,
   "metadata": {},
   "outputs": [],
   "source": [
    "# Generating Application Server - Server Certificate\n",
    "Path(\"certificates/config/application-server/api/server\").mkdir(parents=True, exist_ok=True) \n",
    "\n",
    "filename = \"certificates/config/application-server/api/server/certificate.json\"\n",
    "file_content = configuration_string(app_server_generic_name,app_server_hosts)\n",
    "\n",
    "app_server_file = open(filename, 'w')\n",
    "app_server_file.write(file_content)\n",
    "app_server_file.close()\n",
    "\n",
    "print(\"\\nWritten : \\n\" + file_content + \"\\nto\\n\" + filename + \"\\n\")"
   ]
  },
  {
   "cell_type": "code",
   "execution_count": null,
   "metadata": {},
   "outputs": [],
   "source": [
    "# Generating Application Server - Client Certificate\n",
    "\n",
    "Path(\"certificates/config/application-server/api/client\").mkdir(parents=True, exist_ok=True) \n",
    "\n",
    "filename = \"certificates/config/application-server/api/client/certificate.json\"\n",
    "file_content = configuration_string(net_id,net_server_hosts)\n",
    "\n",
    "app_server_file = open(filename, 'w')\n",
    "app_server_file.write(file_content)\n",
    "app_server_file.close()\n",
    "\n",
    "print(\"\\nWritten : \\n\" + file_content + \"\\nto\\n\" + filename + \"\\n\")"
   ]
  },
  {
   "cell_type": "code",
   "execution_count": null,
   "metadata": {},
   "outputs": [],
   "source": [
    "# Generating Join Server - Server Certificate\n",
    "\n",
    "Path(\"certificates/config/application-server/join-api/server\").mkdir(parents=True, exist_ok=True) \n",
    "\n",
    "filename = \"certificates/config/application-server/join-api/server/certificate.json\"\n",
    "file_content = configuration_string(join_server_generic_name,join_server_hosts)\n",
    "\n",
    "join_server_file = open(filename, 'w')\n",
    "join_server_file.write(file_content)\n",
    "join_server_file.close()\n",
    "\n",
    "print(\"\\nWritten : \\n\" + file_content + \"\\nto\\n\" + filename + \"\\n\")"
   ]
  },
  {
   "cell_type": "code",
   "execution_count": null,
   "metadata": {},
   "outputs": [],
   "source": [
    "# Generating Join Server - Client Certificate\n",
    "\n",
    "Path(\"certificates/config/application-server/join-api/client\").mkdir(parents=True, exist_ok=True) \n",
    "\n",
    "filename = \"certificates/config/application-server/join-api/client/certificate.json\"\n",
    "file_content = configuration_string(net_id,net_server_hosts)\n",
    "\n",
    "join_server_file = open(filename, 'w')\n",
    "join_server_file.write(file_content)\n",
    "join_server_file.close()\n",
    "\n",
    "print(\"\\nWritten : \\n\" + file_content + \"\\nto\\n\" + filename + \"\\n\")"
   ]
  },
  {
   "cell_type": "code",
   "execution_count": null,
   "metadata": {},
   "outputs": [],
   "source": [
    "# Generating Network Server - Server Certificate\n",
    "\n",
    "Path(\"certificates/config/network-server/api/server\").mkdir(parents=True, exist_ok=True) \n",
    "\n",
    "filename = \"certificates/config/network-server/api/server/certificate.json\"\n",
    "file_content = configuration_string(net_server_generic_name,net_server_hosts)\n",
    "\n",
    "net_server_file = open(filename, 'w')\n",
    "net_server_file.write(file_content)\n",
    "net_server_file.close()\n",
    "\n",
    "print(\"\\nWritten : \\n\" + file_content + \"\\nto\\n\" + filename + \"\\n\")"
   ]
  },
  {
   "cell_type": "code",
   "execution_count": null,
   "metadata": {},
   "outputs": [],
   "source": [
    "# Generating Network Server - Client Certificate\n",
    "\n",
    "Path(\"certificates/config/network-server/api/client\").mkdir(parents=True, exist_ok=True) \n",
    "\n",
    "filename = \"certificates/config/network-server/api/client/certificate.json\"\n",
    "file_content = configuration_string(app_server_identifier,app_server_hosts)\n",
    "\n",
    "net_server_file = open(filename, 'w')\n",
    "net_server_file.write(file_content)\n",
    "net_server_file.close()\n",
    "\n",
    "print(\"\\nWritten : \\n\" + file_content + \"\\nto\\n\" + filename + \"\\n\")"
   ]
  },
  {
   "cell_type": "code",
   "execution_count": null,
   "metadata": {},
   "outputs": [],
   "source": [
    "# Generating Roaming Server - Server Certificate\n",
    "roaming_path = \"certificates/config/network-server/roaming/\" + net_id\n",
    "\n",
    "Path(roaming_path + \"/server\").mkdir(parents=True, exist_ok=True) \n",
    "\n",
    "filename = roaming_path + \"/server/certificate.json\"\n",
    "file_content = configuration_string(net_id,roaming_server_hosts)\n",
    "\n",
    "net_server_file = open(filename, 'w')\n",
    "net_server_file.write(file_content)\n",
    "net_server_file.close()\n",
    "\n",
    "print(\"\\nWritten : \\n\" + file_content + \"\\nto\\n\" + filename + \"\\n\")"
   ]
  },
  {
   "cell_type": "code",
   "execution_count": null,
   "metadata": {},
   "outputs": [],
   "source": [
    "# Generating Roaming Server - Server Certificate\n",
    "\n",
    "Path(roaming_path + \"/client\").mkdir(parents=True, exist_ok=True)\n",
    "\n",
    "filename = roaming_path + \"/client/certificate.json\"\n",
    "file_content = configuration_string(net_id,[\"\"])\n",
    "\n",
    "net_server_file = open(filename, 'w')\n",
    "net_server_file.write(file_content)\n",
    "net_server_file.close()\n",
    "\n",
    "print(\"\\nWritten : \\n\" + file_content + \"\\nto\\n\" + filename + \"\\n\")"
   ]
  },
  {
   "cell_type": "code",
   "execution_count": null,
   "metadata": {},
   "outputs": [],
   "source": [
    "root = folder_destination + \"-\" + str(datetime.datetime.now()).split(\" \")[0] + \"-certificates/\"\n",
    "if not os.path.isfile(root):\n",
    "    os.rename(root, root[:-1]+\"-old\")\n",
    "os.rename(\"certificates\", root)"
   ]
  },
  {
   "cell_type": "code",
   "execution_count": null,
   "metadata": {},
   "outputs": [],
   "source": []
  },
  {
   "cell_type": "code",
   "execution_count": null,
   "metadata": {},
   "outputs": [],
   "source": []
  },
  {
   "cell_type": "code",
   "execution_count": null,
   "metadata": {},
   "outputs": [],
   "source": []
  },
  {
   "cell_type": "code",
   "execution_count": null,
   "metadata": {},
   "outputs": [],
   "source": []
  },
  {
   "cell_type": "code",
   "execution_count": null,
   "metadata": {},
   "outputs": [],
   "source": []
  },
  {
   "cell_type": "code",
   "execution_count": null,
   "metadata": {},
   "outputs": [],
   "source": []
  },
  {
   "cell_type": "code",
   "execution_count": null,
   "metadata": {},
   "outputs": [],
   "source": []
  },
  {
   "cell_type": "code",
   "execution_count": null,
   "metadata": {},
   "outputs": [],
   "source": []
  },
  {
   "cell_type": "code",
   "execution_count": null,
   "metadata": {},
   "outputs": [],
   "source": []
  },
  {
   "cell_type": "code",
   "execution_count": null,
   "metadata": {},
   "outputs": [],
   "source": []
  },
  {
   "cell_type": "code",
   "execution_count": null,
   "metadata": {},
   "outputs": [],
   "source": []
  },
  {
   "cell_type": "code",
   "execution_count": null,
   "metadata": {},
   "outputs": [],
   "source": []
  },
  {
   "cell_type": "code",
   "execution_count": null,
   "metadata": {},
   "outputs": [],
   "source": []
  },
  {
   "cell_type": "code",
   "execution_count": null,
   "metadata": {},
   "outputs": [],
   "source": []
  },
  {
   "cell_type": "code",
   "execution_count": null,
   "metadata": {},
   "outputs": [],
   "source": []
  }
 ],
 "metadata": {
  "kernelspec": {
   "display_name": "Python 3",
   "language": "python",
   "name": "python3"
  },
  "language_info": {
   "codemirror_mode": {
    "name": "ipython",
    "version": 3
   },
   "file_extension": ".py",
   "mimetype": "text/x-python",
   "name": "python",
   "nbconvert_exporter": "python",
   "pygments_lexer": "ipython3",
   "version": "3.7.3"
  }
 },
 "nbformat": 4,
 "nbformat_minor": 4
}
